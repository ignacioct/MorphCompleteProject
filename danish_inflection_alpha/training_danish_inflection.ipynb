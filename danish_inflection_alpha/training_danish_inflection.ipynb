{
 "cells": [
  {
   "cell_type": "markdown",
   "metadata": {},
   "source": [
    "# Training the initial Danish seq2seq inflection system"
   ]
  },
  {
   "cell_type": "markdown",
   "metadata": {},
   "source": [
    "## Imports and Installs"
   ]
  },
  {
   "cell_type": "code",
   "execution_count": null,
   "metadata": {},
   "outputs": [],
   "source": [
    "# May need to install fairseq in Colab once for a notebook if it needs it\n",
    "!pip install fairseq"
   ]
  },
  {
   "cell_type": "code",
   "execution_count": null,
   "metadata": {},
   "outputs": [],
   "source": [
    "!pip install tensorboardX"
   ]
  },
  {
   "cell_type": "code",
   "execution_count": null,
   "metadata": {},
   "outputs": [],
   "source": [
    "# Here, we mount Google drive so that Colab can access files in your Google drive.\n",
    "from google.colab import drive\n",
    "drive.mount('/content/drive/')\n",
    "\n",
    "# You should navigate into the directory where the training/dev/test files \n",
    "# and the preprocessing and training scripts are. This may be different for you\n",
    "# depending on where you placed the files from fairseqexample.tar.gz\n",
    "%cd /content/drive/MyDrive/MScDonosti/MorphCompleteProject/DanishInflection\n",
    "!ls -al"
   ]
  },
  {
   "cell_type": "code",
   "execution_count": null,
   "metadata": {},
   "outputs": [],
   "source": [
    "# We have to preprocess the data so the tokens get analyzed\n",
    "!bash ./preprocess.sh esp"
   ]
  },
  {
   "cell_type": "code",
   "execution_count": null,
   "metadata": {},
   "outputs": [],
   "source": [
    "# Train with default parameters, roughly the baseline in SIGMORPHON 2020 shared task\n",
    "# Let this run until the loss on the validation (dev) test no longer improves. (Maybe 10 minutes with a GPU).\n",
    "!bash ./train.sh esp"
   ]
  },
  {
   "cell_type": "code",
   "execution_count": null,
   "metadata": {},
   "outputs": [],
   "source": [
    "# Generate predictions on test data - read in all the inputs from tst.esp.input \n",
    "# and generate outputs to the file tst.esp.output (this is slow and takes about a minute)\n",
    "!fairseq-interactive data-bin/esp/ --source-lang=esp.input --target-lang=esp.output --path=checkpoints/esp-models/checkpoint_best.pt --input=tst.esp.input | grep -P \"D-[0-9]+\" | cut -f3 > tst.esp.output"
   ]
  },
  {
   "cell_type": "code",
   "execution_count": null,
   "metadata": {},
   "outputs": [],
   "source": [
    "# Read in the generated outputs and inputs and display the first 20 side-by-side\n",
    "linesinput = [l.strip() for l in open(\"tst.esp.input\")]\n",
    "linesoutput = [l.strip() for l in open(\"tst.esp.output\")]\n",
    "tuple(zip(linesinput, linesoutput))[:20] # Look at 20 first test inputs and predicted outputs"
   ]
  }
 ],
 "metadata": {
  "kernelspec": {
   "display_name": "CompleteProject",
   "language": "python",
   "name": "python3"
  },
  "language_info": {
   "name": "python",
   "version": "3.11.0"
  }
 },
 "nbformat": 4,
 "nbformat_minor": 2
}
