{
 "cells": [
  {
   "cell_type": "markdown",
   "metadata": {},
   "source": [
    "# Preprocessing Danish dataset for reinflection\n",
    "\n",
    "For the Danish Inflection system, the alpha model, the dataset splits were 70% 15% 15% (7842; 1681; 1680). We have obtained a new Danish dataset "
   ]
  }
 ],
 "metadata": {
  "language_info": {
   "name": "python"
  }
 },
 "nbformat": 4,
 "nbformat_minor": 2
}
